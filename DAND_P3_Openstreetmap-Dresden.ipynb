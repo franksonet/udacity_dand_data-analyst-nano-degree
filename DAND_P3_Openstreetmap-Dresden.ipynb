{
 "cells": [
  {
   "cell_type": "markdown",
   "metadata": {},
   "source": [
    "*dand p3 project report*\n",
    "# Data Wrangling with python & MongoDB"
   ]
  },
  {
   "cell_type": "markdown",
   "metadata": {
    "ExecuteTime": {
     "end_time": "2016-12-20T11:37:37.798110",
     "start_time": "2016-12-20T11:37:37.784420"
    }
   },
   "source": [
    "Cao Zhihua    \n",
    "2016-12-26"
   ]
  },
  {
   "cell_type": "markdown",
   "metadata": {},
   "source": [
    "### 地图／Map Area : <span style='color:blue'>Dresden, Germany</span>\n",
    "**Size:** 315.5M (uncompressed)    \n",
    "**Source:** [Map Zen](https://mapzen.com)     \n",
    "**Download Link:** https://s3.amazonaws.com/metro-extracts.mapzen.com/dresden_germany.osm.bz2     \n",
    "**Reason of choice**: 曾经出差访问过德国的Dresden，印象不错，加上会一些德语，有助于处理地图中的德语信息。"
   ]
  },
  {
   "cell_type": "markdown",
   "metadata": {},
   "source": [
    "## 1. 数据分析"
   ]
  },
  {
   "cell_type": "markdown",
   "metadata": {},
   "source": [
    "### 数据问题综述\n",
    "<span style='color:blue'>通过对样本和完整数据集的探索，发现该数据集总体上数据质量还是相当不错的，但仍有以下几点问题需要在导入数据库前予以处理：\n",
    "1. tag元素中，有小部分的k值中使用了非标的\".\"符号而非标准的\":\"符号。\n",
    "2. 有部分tag元素通过特殊k值\"FIXME\"标注为存疑或者待完善，无须倒入数据库中。\n",
    "3. 部分数据为目标城市周边地区的信息，需要予以剔除。\n",
    "4. 德语中半元音(ä,ö,ü等）可能需要进行编码处理才能顺利导入mongoDB。\n",
    "\n",
    "<span style='color:blue'>下面就发现这些问题的具体过程和步骤进行详细说明：</span>"
   ]
  },
  {
   "cell_type": "markdown",
   "metadata": {},
   "source": [
    "### 数据探索过程说明"
   ]
  },
  {
   "cell_type": "markdown",
   "metadata": {},
   "source": [
    "首先通过课程提供的代码（如下）从完整数据文件中提取出取样数据文件(k=50)：    \n",
    "    <span style='color:blue'>dresden-sample.osm --------  6.6M</span>    "
   ]
  },
  {
   "cell_type": "code",
   "execution_count": 296,
   "metadata": {
    "ExecuteTime": {
     "end_time": "2016-12-25T12:54:19.225113",
     "start_time": "2016-12-25T12:53:51.185857"
    },
    "code_folding": [],
    "collapsed": false
   },
   "outputs": [],
   "source": [
    "#!/usr/bin/env python\n",
    "# -*- coding: utf-8 -*-\n",
    "\n",
    "#import xml.etree.ElementTree as ET  # Use cElementTree or lxml if too slow\n",
    "import xml.etree.cElementTree as ET\n",
    "\n",
    "OSM_FILE = \"dresden_germany.osm\"\n",
    "SAMPLE_FILE = \"dresden-sample.osm\"\n",
    "\n",
    "k = 50\n",
    "\n",
    "def get_element(osm_file, tags=('node', 'way', 'relation')):\n",
    "    context = iter(ET.iterparse(osm_file, events=('start', 'end')))\n",
    "    _, root = next(context)\n",
    "    for event, elem in context:\n",
    "        if event == 'end' and elem.tag in tags:\n",
    "            yield elem\n",
    "            root.clear()\n",
    "\n",
    "\n",
    "with open(SAMPLE_FILE, 'wb') as output:\n",
    "    output.write('<?xml version=\"1.0\" encoding=\"UTF-8\"?>\\n')\n",
    "    output.write('<osm>\\n  ')\n",
    "\n",
    "    # Write every kth top level element\n",
    "    for i, element in enumerate(get_element(OSM_FILE)):\n",
    "        if i % k == 0:\n",
    "            output.write(ET.tostring(element, encoding='utf-8'))\n",
    "\n",
    "    output.write('</osm>')"
   ]
  },
  {
   "cell_type": "markdown",
   "metadata": {},
   "source": [
    "探究sample文件中的标签种类和数量"
   ]
  },
  {
   "cell_type": "code",
   "execution_count": 297,
   "metadata": {
    "ExecuteTime": {
     "end_time": "2016-12-25T12:54:19.653876",
     "start_time": "2016-12-25T12:54:19.226981"
    },
    "code_folding": [],
    "collapsed": false
   },
   "outputs": [
    {
     "name": "stdout",
     "output_type": "stream",
     "text": [
      "{'member': 1735,\n",
      " 'nd': 33028,\n",
      " 'node': 25557,\n",
      " 'osm': 1,\n",
      " 'relation': 88,\n",
      " 'tag': 24893,\n",
      " 'way': 4727}\n"
     ]
    }
   ],
   "source": [
    "#!/usr/bin/env python\n",
    "# -*- coding: utf-8 -*-\n",
    "\n",
    "import xml.etree.cElementTree as ET\n",
    "import pprint\n",
    "\n",
    "def count_tags(filename):\n",
    "    tags = {}\n",
    "    for event, elem in ET.iterparse(filename):\n",
    "        if elem.tag in tags:\n",
    "            tags[elem.tag] += 1\n",
    "        else:\n",
    "            tags[elem.tag] = 1\n",
    "            \n",
    "    return tags\n",
    "\n",
    "def test():\n",
    "\n",
    "    tags = count_tags('dresden-sample.osm')\n",
    "    pprint.pprint(tags)\n",
    "    \n",
    "if __name__ == \"__main__\":\n",
    "    test()"
   ]
  },
  {
   "cell_type": "markdown",
   "metadata": {},
   "source": [
    "接下来对tag标签下面的k值进行探索"
   ]
  },
  {
   "cell_type": "code",
   "execution_count": 298,
   "metadata": {
    "ExecuteTime": {
     "end_time": "2016-12-25T12:54:20.790480",
     "start_time": "2016-12-25T12:54:19.656300"
    },
    "code_folding": [],
    "collapsed": true
   },
   "outputs": [],
   "source": [
    "#!/usr/bin/env python\n",
    "# -*- coding: utf-8 -*-\n",
    "\n",
    "import xml.etree.cElementTree as ET\n",
    "import pprint\n",
    "\n",
    "def count_tags(filename):\n",
    "    tags_k = {}\n",
    "    for event, elem in ET.iterparse(filename):\n",
    "        if elem.tag == 'tag':\n",
    "            tags_k[elem.get('k').strip()] = tags_k.get(elem.get('k').strip(), 0) + 1\n",
    "            \n",
    "    return tags_k\n",
    "\n",
    "tags_k = count_tags('dresden-sample.osm')"
   ]
  },
  {
   "cell_type": "code",
   "execution_count": 299,
   "metadata": {
    "ExecuteTime": {
     "end_time": "2016-12-25T12:54:20.800431",
     "start_time": "2016-12-25T12:54:20.792556"
    },
    "code_folding": [],
    "collapsed": false,
    "scrolled": true
   },
   "outputs": [
    {
     "name": "stdout",
     "output_type": "stream",
     "text": [
      "[('motorhome', 1),\n",
      " ('class:bicycle', 1),\n",
      " ('bicycle:lanes:backward', 1),\n",
      " ('seamark:beacon_lateral:colour_pattern', 1),\n",
      " ('max_age', 1),\n",
      " ('fenced', 1),\n",
      " ('denomination:de', 1),\n",
      " ('recycling:magazines', 1),\n",
      " ('facebook', 1),\n",
      " ('cn_ukd:token', 1)]\n",
      " ...\n"
     ]
    }
   ],
   "source": [
    "def sort_dict(mydict):\n",
    "    return mydict[1]\n",
    "pprint.pprint(sorted(tags_k.iteritems(), key=sort_dict, reverse=False)[:10])\n",
    "print ' ...'"
   ]
  },
  {
   "cell_type": "markdown",
   "metadata": {},
   "source": [
    "以上代码对个标签的k值出现次数进行了倒排序，可以看到有很多k值只出现过1次，再看看这些出现一次的tag k值对应的v值："
   ]
  },
  {
   "cell_type": "code",
   "execution_count": 300,
   "metadata": {
    "ExecuteTime": {
     "end_time": "2016-12-25T12:54:20.857159",
     "start_time": "2016-12-25T12:54:20.803135"
    },
    "code_folding": [],
    "collapsed": false,
    "scrolled": false
   },
   "outputs": [
    {
     "name": "stdout",
     "output_type": "stream",
     "text": [
      "ref:isil | DE-106\n",
      "seamark:small_craft_facility:category | slipway\n",
      "source:ref | interpolation\n",
      "asb | 261\n",
      "onkz | 351\n",
      "note:de | http://wiki.openstreetmap.org/index.php/DE:DSL_Hauptverteiler\n",
      "fee_zone | 70\n",
      "theatre:genre | circus\n",
      "temporary:date_on | 2015-11-17\n",
      "temporary:date_off | 2016-02-14\n"
     ]
    }
   ],
   "source": [
    "def audit_tags(filename, tags_k):\n",
    "    n = 10\n",
    "    for event, elem in ET.iterparse(filename):\n",
    "        if elem.tag == 'tag':\n",
    "            if tags_k[elem.get('k').strip()] <= 1: \n",
    "                print elem.get('k'), '|', elem.get('v')\n",
    "                n = n - 1\n",
    "        if n == 0:\n",
    "            break\n",
    "audit_tags('dresden-sample.osm', tags_k)"
   ]
  },
  {
   "cell_type": "markdown",
   "metadata": {},
   "source": [
    "以上可以看出，即使值出现一次，数据质量问题不大。    \n",
    "接下来再查看一下文件中所有tag的v值的有效性情况，为了了解全貌，这次对完整数据集进行分析，分析的同时打印出所有含问题字符的tag："
   ]
  },
  {
   "cell_type": "code",
   "execution_count": 301,
   "metadata": {
    "ExecuteTime": {
     "end_time": "2016-12-25T12:55:03.627599",
     "start_time": "2016-12-25T12:54:20.859650"
    },
    "code_folding": [],
    "collapsed": false,
    "scrolled": false
   },
   "outputs": [
    {
     "name": "stdout",
     "output_type": "stream",
     "text": [
      "The tag keys with problematic characters:\n",
      ">>>  sidewalk:left.surface | paving_stones\n",
      ">>>  sidewalk:right.surface | concrete:plates\n",
      ">>>  sidewalk:left.smoothness | intermediate\n",
      ">>>  sidewalk:right.smoothness | good\n",
      ">>>  step.condition | even\n",
      ">>>  step.height | normal\n",
      ">>>  step.length | normal\n",
      ">>>  step.condition | even\n",
      ">>>  step.height | normal\n",
      ">>>  step.length | normal\n",
      ">>>  step.condition | even\n",
      ">>>  step.height | normal\n",
      ">>>  step.length | normal\n",
      "\n",
      "Auditing the tag names...\n",
      "{'Total': 1225081,\n",
      " 'lower': 697506,\n",
      " 'lower_colon': 505076,\n",
      " 'other': 22486,\n",
      " 'problemchars': 13}\n"
     ]
    }
   ],
   "source": [
    "#!/usr/bin/env python\n",
    "# -*- coding: utf-8 -*-\n",
    "import xml.etree.cElementTree as ET\n",
    "import pprint\n",
    "import re\n",
    "\n",
    "lower = re.compile(r'^([a-z]|_)*$')\n",
    "lower_colon = re.compile(r'^([a-z]|_)*:([a-z]|_)*$')\n",
    "problemchars = re.compile(r'[=\\+/&<>;\\'\"\\?%#$@\\,\\. \\t\\r\\n]')\n",
    "\n",
    "\n",
    "def key_type(element, keys, last_tag, n):\n",
    "    if element.tag == \"tag\":\n",
    "        # YOUR CODE HERE\n",
    "        #print element.attrib\n",
    "        k = element.get('k')\n",
    "        keys['Total'] += 1\n",
    "        if lower.search(k):\n",
    "            keys['lower'] += 1\n",
    "        elif lower_colon.search(k):\n",
    "            keys['lower_colon'] += 1\n",
    "        elif problemchars.search(k):\n",
    "            keys['problemchars'] += 1\n",
    "            print '>>> ', element.get('k'), '|', element.get('v')\n",
    "        else:\n",
    "            keys['other'] += 1\n",
    "            #print n, '|', k, '|', element.get('v'), '|', last_tag\n",
    "    return keys\n",
    "\n",
    "\n",
    "\n",
    "def process_map(filename):\n",
    "    keys = {\"Total\": 0, \"lower\": 0, \"lower_colon\": 0, \"problemchars\": 0, \"other\": 0}\n",
    "    last_tag = ''\n",
    "    n = 0\n",
    "    for _, element in ET.iterparse(filename):\n",
    "        n += 1\n",
    "        keys = key_type(element, keys,last_tag, n)\n",
    "        if last_tag != element.tag or element.tag != 'tag':\n",
    "            last_tag = element.tag\n",
    "        else:\n",
    "            last_tag = ''\n",
    "    return keys\n",
    "\n",
    "\n",
    "\n",
    "def test():\n",
    "    print 'The tag keys with problematic characters:'\n",
    "    keys = process_map('dresden_germany.osm')\n",
    "    print '\\nAuditing the tag names...'\n",
    "    pprint.pprint(keys)\n",
    "\n",
    "\n",
    "if __name__ == \"__main__\":\n",
    "    test()"
   ]
  },
  {
   "cell_type": "markdown",
   "metadata": {},
   "source": [
    "<span style='color:red'>可以看出存在问题字符的tag的k值中都有\".\"符号，在后续处理中需要改为\":\"。</span><br>\n",
    "接下来专门看了一下归类为“other”部分的 tag 的 k 值和 v 值，发现大部分是 k 值 中由多个冒号分割的那部分tag，再看一下去除这部分tag（通过修改正则公式）后还剩下哪些种类的tag，这次还是使用完整的数据集。"
   ]
  },
  {
   "cell_type": "code",
   "execution_count": 302,
   "metadata": {
    "ExecuteTime": {
     "end_time": "2016-12-25T12:55:37.807440",
     "start_time": "2016-12-25T12:55:03.635124"
    },
    "code_folding": [],
    "collapsed": false,
    "scrolled": false
   },
   "outputs": [
    {
     "name": "stdout",
     "output_type": "stream",
     "text": [
      "['5679 | FIXME | exact position | tag',\n",
      " '20748 | CATDIS | 3 | node',\n",
      " '20749 | WTWDIS | 62,0 | tag',\n",
      " u'22281 | note2 | Koennt ihr diesen Editwar mal bitte beenden, geht f\\xfcr sowas zu facebook oder so?! | ',\n",
      " '129157 | e-cigarette | no | tag',\n",
      " '176229 | e-cigarette | no | tag',\n",
      " '216647 | e-cigarette | no | tag',\n",
      " '249404 | FIXME | not seen in May 2014 | node',\n",
      " '276753 | FIXME | automatische poller die wohl nachts zu sind? | node',\n",
      " '389215 | ddbus2010 | yes | tag']\n",
      " ...\n",
      "\n",
      "Count of the tags with k value string -\"FIXME\": 111\n"
     ]
    }
   ],
   "source": [
    "#!/usr/bin/env python\n",
    "# -*- coding: utf-8 -*-\n",
    "import xml.etree.cElementTree as ET\n",
    "import pprint\n",
    "import re\n",
    "\n",
    "lower = re.compile(r'^([a-z]|_)*$')\n",
    "lower_colon = re.compile(r'([a-z]|_)*:([a-z]|_)*')\n",
    "problemchars = re.compile(r'[=\\+/&<>;\\'\"\\?%#$@\\,\\. \\t\\r\\n]')\n",
    "\n",
    "\n",
    "def key_type(element, keys, last_tag, n, problem_keys):\n",
    "    if element.tag == \"tag\":\n",
    "        # YOUR CODE HERE\n",
    "        #print element.attrib\n",
    "        k = element.get('k')\n",
    "        keys['Total'] += 1\n",
    "        if lower.search(k):\n",
    "            keys['lower'] += 1\n",
    "        elif lower_colon.search(k):\n",
    "            keys['lower_colon'] += 1\n",
    "        elif problemchars.search(k):\n",
    "            keys['problemchars'] += 1\n",
    "        else:\n",
    "            keys['other'] += 1\n",
    "            problem_keys.append(' | '.join([str(n), k, element.get('v'), last_tag]))\n",
    "            \n",
    "    return keys, problem_keys\n",
    "\n",
    "\n",
    "\n",
    "def process_map(filename):\n",
    "    keys = {\"Total\": 0, \"lower\": 0, \"lower_colon\": 0, \"problemchars\": 0, \"other\": 0}\n",
    "    last_tag = ''\n",
    "    n = 0\n",
    "    problem_keys = []\n",
    "    for _, element in ET.iterparse(filename):\n",
    "        n += 1\n",
    "        keys, problem_keys = key_type(element, keys,last_tag, n, problem_keys)\n",
    "        if last_tag != element.tag or element.tag != 'tag':\n",
    "            last_tag = element.tag\n",
    "        else:\n",
    "            last_tag = ''\n",
    "    return keys, problem_keys\n",
    "\n",
    "\n",
    "\n",
    "def test():\n",
    "    keys, problem_keys = process_map('dresden_germany.osm')\n",
    "    #print 'Auditing the tag names...'\n",
    "    pprint.pprint(problem_keys[:10])\n",
    "    n = 0\n",
    "    for s in problem_keys:\n",
    "        if 'FIXME' in s:\n",
    "            n += 1\n",
    "    print ' ...\\n\\nCount of the tags with k value string -\\\"FIXME\\\":', n\n",
    "\n",
    "if __name__ == \"__main__\":\n",
    "    test()"
   ]
  },
  {
   "cell_type": "markdown",
   "metadata": {},
   "source": [
    "通过以上代码的运行结果发现，去除多个冒号的标签之后，剩下的tag中有一个k值反复出现：<span style='color:red'>\"FIXME\"</span>（共计111处），通过阅读它们的v值，可以发现这部分tag都是存在疑问或者需要完善的tag，<span style='color:red'>这部分tag价值不大，可以考虑在后面导入数据库时忽略掉。</span>"
   ]
  },
  {
   "cell_type": "markdown",
   "metadata": {},
   "source": [
    "下面对于k值中含冒号的tag进行一些探索，以决定后续存储的数据结构形式："
   ]
  },
  {
   "cell_type": "code",
   "execution_count": 303,
   "metadata": {
    "ExecuteTime": {
     "end_time": "2016-12-25T12:56:02.108994",
     "start_time": "2016-12-25T12:55:37.811038"
    },
    "collapsed": false
   },
   "outputs": [],
   "source": [
    "multi_colon_keys = {}\n",
    "colon_count = set()\n",
    "for _, element in ET.iterparse('dresden_germany.osm'):\n",
    "    if element.tag == 'tag':\n",
    "        if element.get('k').count(':') >= 1:\n",
    "            multi_colon_keys[element.get('k').strip()] = multi_colon_keys.get(element.get('k').strip(), 0) + 1\n",
    "            colon_count.add((element.get('k')[:element.get('k').find(':')], element.get('k').count(':')))"
   ]
  },
  {
   "cell_type": "code",
   "execution_count": 304,
   "metadata": {
    "ExecuteTime": {
     "end_time": "2016-12-25T12:56:02.125505",
     "start_time": "2016-12-25T12:56:02.111006"
    },
    "collapsed": false
   },
   "outputs": [
    {
     "name": "stdout",
     "output_type": "stream",
     "text": [
      "TOP 10 most repeated keys with over 1 colon:\n",
      "[('addr:street', 89198),\n",
      " ('addr:housenumber', 88311),\n",
      " ('addr:postcode', 85264),\n",
      " ('addr:city', 84400),\n",
      " ('addr:country', 75676),\n",
      " ('addr:suburb', 8280),\n",
      " ('building:levels', 6737),\n",
      " ('roof:shape', 4678),\n",
      " ('source:maxspeed', 3708),\n",
      " ('roof:colour', 3406)]\n",
      "\n",
      "Starting word of keys with most colons:\n",
      "[('TMC', 4),\n",
      " ('railway', 3),\n",
      " ('parking', 3),\n",
      " ('seamark', 3),\n",
      " ('addr', 3),\n",
      " ('destination', 3),\n",
      " ('hgv', 3),\n",
      " ('TMC', 3),\n",
      " ('sidewalk', 3),\n",
      " ('climbing', 3)]\n"
     ]
    }
   ],
   "source": [
    "def sort_by_hits(d):\n",
    "    return d[1]\n",
    "sorted_keys_by_hits = sorted(multi_colon_keys.iteritems(), key=sort_by_hits, reverse=True)\n",
    "print 'TOP 10 most repeated keys with over 1 colon:'\n",
    "pprint.pprint(sorted_keys_by_hits[:10])\n",
    "\n",
    "sorted_colon_count = sorted(colon_count, key=sort_by_hits, reverse=True)\n",
    "print '\\nStarting word of keys with most colons:'\n",
    "pprint.pprint([(key, colon) for key, colon in sorted_colon_count if colon > 2])"
   ]
  },
  {
   "cell_type": "markdown",
   "metadata": {},
   "source": [
    "以上代码得出了出现次数排名前10的带冒号k值列表，以及所有包含3个及以上冒号的k值列表。可见大部分带冒号k值只有一个冒号，<span style='color:red'>因此数据结构可以设定为：第一个冒号前后内容分上下层级，而其它的冒号均用“_\"替代</span>。"
   ]
  },
  {
   "cell_type": "code",
   "execution_count": 376,
   "metadata": {
    "ExecuteTime": {
     "end_time": "2016-12-26T00:42:54.224918",
     "start_time": "2016-12-26T00:42:53.716694"
    },
    "code_folding": [],
    "collapsed": false
   },
   "outputs": [
    {
     "name": "stdout",
     "output_type": "stream",
     "text": [
      "\n",
      "\n",
      "A sample of the address data:\n",
      ">>>  addr:city | Radebeul\n",
      ">>>  addr:street | Meißner Straße\n",
      ">>>  addr:postcode | 01445\n",
      ">>>  addr:housenumber | 475\n",
      ">>>  addr:city | Dresden\n",
      ">>>  addr:street | Freiberger Straße\n",
      ">>>  addr:postcode | 01067\n",
      ">>>  addr:housenumber | 35\n",
      ">>>  addr:city | Dresden\n",
      ">>>  addr:street | Friedrich-Wieck-Straße\n"
     ]
    }
   ],
   "source": [
    "#!/usr/bin/env python\n",
    "# -*- coding: utf-8 -*-\n",
    "import xml.etree.cElementTree as ET\n",
    "from collections import defaultdict\n",
    "import re\n",
    "import pprint\n",
    "\n",
    "OSMFILE = \"dresden-sample.osm\"\n",
    "\n",
    "\n",
    "def is_street_name(elem):\n",
    "    \n",
    "    if \"addr:postcode\" in elem.attrib['k']:\n",
    "        if not elem.get('v').isalnum() and len(elem.get('v')) != 5:\n",
    "            print elem.get('v'), elem.get('v').isalnum()\n",
    "    \n",
    "    if \"addr:country\" in elem.attrib['k']:\n",
    "        if elem.get('v').strip() != \"DE\":\n",
    "            print elem.get('v')\n",
    "\n",
    "    if \"addr:city\" in elem.attrib['k']:\n",
    "        if elem.get('v').strip() != \"Dresden\":\n",
    "            #print elem.get('v')\n",
    "            pass\n",
    "    return (\"addr\" in elem.attrib['k'])\n",
    "\n",
    "\n",
    "def st_names(osmfile):\n",
    "    osm_file = open(osmfile, \"r\")\n",
    "    street_names = []\n",
    "    for event, elem in ET.iterparse(osm_file, events=(\"start\",)):\n",
    "\n",
    "        if elem.tag == \"node\" or elem.tag == \"way\":\n",
    "            for tag in elem.iter(\"tag\"):\n",
    "                if is_street_name(tag):\n",
    "                    street_names.append(' | '.join([tag.get('k'), tag.get('v')]))\n",
    "    osm_file.close()\n",
    "    return street_names\n",
    "\n",
    "\n",
    "def test():\n",
    "    street_names = st_names(OSMFILE)\n",
    "    print '\\n\\nA sample of the address data:'\n",
    "    for name in street_names[:10]:\n",
    "        print '>>> ',name\n",
    "\n",
    "\n",
    "if __name__ == '__main__':\n",
    "    test()"
   ]
  },
  {
   "cell_type": "markdown",
   "metadata": {},
   "source": [
    "以上代码分别对postcode,city,country的v值进行了评审，发现整个数据集的数据还是做得非常干净的，只有city数据有点问题，中有很多不是目标城市:Dresden，考虑到该数据取的是一个矩形框区域，波及到周边城市很正常，<span style='color:red'>后续处理数据时考虑将这些非目标城市的信息去除。</span> 另外，德国的街道名后缀和美国有很大不同，一般以Straße,Weg,Ring等结尾，数据集中的街道名后缀基本都是完整的，不需要特别处理。"
   ]
  },
  {
   "cell_type": "markdown",
   "metadata": {
    "collapsed": true
   },
   "source": [
    "## 2. 数据整理和导入MongoDB数据库"
   ]
  },
  {
   "cell_type": "markdown",
   "metadata": {},
   "source": [
    "### 将osm数据进行清理，并导出为json文件"
   ]
  },
  {
   "cell_type": "markdown",
   "metadata": {},
   "source": [
    "导入过程中数据清理的内容包括：\n",
    "1. tag元素中，有小部分的k值中使用了非标的\".\"符号而非标准的\":\"符号，导入中全部用\":\"代替。\n",
    "2. 有部分tag元素通过特殊k值\"FIXME\"标注为存疑或者待完善，全部剔除。\n",
    "3. 部分数据为目标城市周边地区的信息，需要予以剔除。\n",
    "4. 德语中半元音(ä,ö,ü等）无法正确导入json文件，需要在json.dumps()方法上加上ensure_ascii=False参数来解决。"
   ]
  },
  {
   "cell_type": "code",
   "execution_count": 96,
   "metadata": {
    "ExecuteTime": {
     "end_time": "2016-12-22T14:26:11.284567",
     "start_time": "2016-12-22T14:26:08.821519"
    },
    "code_folding": [],
    "collapsed": false,
    "scrolled": true
   },
   "outputs": [],
   "source": [
    "#!/usr/bin/env python\n",
    "# -*- coding: utf-8 -*-\n",
    "import xml.etree.cElementTree as ET\n",
    "import pprint\n",
    "import re\n",
    "import codecs\n",
    "import json\n",
    "\n",
    "problemchars = re.compile(r'[=\\+/&<>;\\'\"\\?%#$@\\, \\t\\r\\n]')\n",
    "\n",
    "CREATED = [ \"version\", \"changeset\", \"timestamp\", \"user\", \"uid\"]\n",
    "\n",
    "# Function to shape a single data structure representing a mongodb document\n",
    "def shape_element(element):\n",
    "    node = {}\n",
    "    if element.tag == \"node\" or element.tag == \"way\" :\n",
    "        node['id'] = element.get('id')\n",
    "        node['type'] = element.tag\n",
    "        if element.get('visible'):\n",
    "            node['visible'] = element.get('visible')\n",
    "        node['created'] = {}\n",
    "        for key in CREATED:\n",
    "            node['created'][key] = element.get(key)\n",
    "        if element.get('lat') and element.get('lon'):\n",
    "            node['pos'] = [float(element.get('lat')), float(element.get('lon'))]\n",
    "        if element.tag == 'way':\n",
    "            node['node_refs'] = []\n",
    "            for nd in element.iter('nd'):\n",
    "                node['node_refs'].append(nd.get('ref'))\n",
    "        \n",
    "        # The following code is to parse the tag element and split the k value with colon into two part\n",
    "        for tag in element.iter('tag'):\n",
    "            match = problemchars.search(tag.get('k'))\n",
    "            if match:\n",
    "                continue\n",
    "            # Skip the tag which does not belong to Dresden\n",
    "            if tag.get('k').strip() == 'addr:city' and tag.get('v').strip() != 'Dresden':\n",
    "                continue\n",
    "            # Skip the tag with value \"FIXME\"\n",
    "            if tag.get('k').strip() == 'FIXME':\n",
    "                continue\n",
    "            \n",
    "            tag_k = tag.get('k')\n",
    "            if '.' in tag_k:\n",
    "                tag_k = tag_k.replace('.', ':')\n",
    "                \n",
    "            key_tuple = tag_k.strip().partition(':')\n",
    "            #print key_tuple\n",
    "            if key_tuple[2].strip() == '':\n",
    "                node[key_tuple[0].strip()] = tag.get('v')\n",
    "            else:\n",
    "                try:\n",
    "                    if type(node[key_tuple[0].strip()]) in (str, unicode):\n",
    "                        node[key_tuple[0].strip()] = {'head': node[type_tuple[0].strip()]}\n",
    "                except:\n",
    "                    node[key_tuple[0].strip()] = {}\n",
    "                node[key_tuple[0].strip()][key_tuple[2].strip().replace(':','_')] = tag.get('v')\n",
    "        \n",
    "        return node\n",
    "    else:\n",
    "        return None\n",
    "\n",
    "\n",
    "# Function to write the cleaned data into a single JSON file to import to mongoDB later...\n",
    "def process_map(file_in, pretty = False):\n",
    "    file_out = \"{0}.json\".format(file_in)\n",
    "    data = []\n",
    "    with codecs.open(file_out, 'w', encoding='utf-8') as fo, codecs.open(file_in, 'r') as fi:\n",
    "        for _, element in ET.iterparse(fi):\n",
    "            el = shape_element(element)\n",
    "            if el:\n",
    "                data.append(el)\n",
    "                if pretty:\n",
    "                    fo.write(json.dumps(el,ensure_ascii=False, indent=2)+\"\\n\")\n",
    "                else:\n",
    "                    fo.write(json.dumps(el, ensure_ascii=False) + \"\\n\") # ensure_ascii=False to deal with German letters\n",
    "    return data\n",
    "\n",
    "\n",
    "data = process_map('dresden-sample.osm', False)"
   ]
  },
  {
   "cell_type": "code",
   "execution_count": 92,
   "metadata": {
    "ExecuteTime": {
     "end_time": "2016-12-22T14:15:39.778962",
     "start_time": "2016-12-22T14:15:39.764657"
    },
    "collapsed": false
   },
   "outputs": [
    {
     "name": "stdout",
     "output_type": "stream",
     "text": [
      "[{'addr': {'city': 'Dresden',\n",
      "           'country': 'DE',\n",
      "           'housenumber': '22',\n",
      "           'postcode': '01239',\n",
      "           'street': 'Langer Weg'},\n",
      "  'created': {'changeset': '24503468',\n",
      "              'timestamp': '2014-08-02T19:08:53Z',\n",
      "              'uid': '53218',\n",
      "              'user': 'gnopph',\n",
      "              'version': '8'},\n",
      "  'entrance': 'main',\n",
      "  'id': '11007927',\n",
      "  'pos': [51.0054137, 13.8066915],\n",
      "  'type': 'node'},\n",
      " {'addr': {'country': 'DE',\n",
      "           'housenumber': '54',\n",
      "           'postcode': '01705',\n",
      "           'street': u'Wilsdruffer Stra\\xdfe'},\n",
      "  'amenity': 'fuel',\n",
      "  'brand': 'Shell',\n",
      "  'created': {'changeset': '40138764',\n",
      "              'timestamp': '2016-06-19T16:03:00Z',\n",
      "              'uid': '423685',\n",
      "              'user': 'geri-oc',\n",
      "              'version': '11'},\n",
      "  'description': 'Shop, Waschanlage, Toilette, Geldautomat, Shell CLUBSMART , Maut Terminal, Kreditkarte',\n",
      "  'entrance': 'main',\n",
      "  'id': '12260880',\n",
      "  'name': 'Shell',\n",
      "  'opening_hours': 'Mo-Su 06:00-22:00',\n",
      "  'phone': '+49 351 6501204',\n",
      "  'pos': [51.0148364, 13.6455499],\n",
      "  'type': 'node',\n",
      "  'wheelchair': 'yes'}]\n",
      "\n",
      "Total document written to the json file: 1514174\n"
     ]
    }
   ],
   "source": [
    "pprint.pprint([x for x in data[1000:2000] if 'addr' in x])\n",
    "print '\\nTotal document written to the json file:', len(data)"
   ]
  },
  {
   "cell_type": "markdown",
   "metadata": {},
   "source": [
    "样本osm文件成功导入json文件，经过查看，数据格式符合期望，因此使用完整数据集生成完整版json文件。\n",
    "\n",
    "<span style='color:blue'>dresden_germany.osm.json ------ 345M</span>"
   ]
  },
  {
   "cell_type": "markdown",
   "metadata": {},
   "source": [
    "### 导入数据库"
   ]
  },
  {
   "cell_type": "markdown",
   "metadata": {},
   "source": [
    "接下来将生成的json文档导入mongoDB数据库，在shell中执行以下语句：\n",
    "```bash\n",
    "$ mongoimport --db examples --collection osm --file dresden_germany.osm.json\n",
    "```"
   ]
  },
  {
   "cell_type": "markdown",
   "metadata": {},
   "source": [
    "然后对数据库关键元素建立索引以加快查询速度（id,uid,pos,timestamp)：\n",
    "```bash\n",
    "> db.dresden.createIndex( { id: 1 } )\n",
    "> db.dresden.createIndex( { uid: 1 } )\n",
    "> db.dresden.createIndex( { pos: \"2d\" } )\n",
    "> db.dresden.createIndex( { timestamp: 1 } )\n",
    "```"
   ]
  },
  {
   "cell_type": "markdown",
   "metadata": {},
   "source": [
    "## 3. 初步探索mongoDB数据库"
   ]
  },
  {
   "cell_type": "markdown",
   "metadata": {},
   "source": [
    "### 建立连接"
   ]
  },
  {
   "cell_type": "code",
   "execution_count": 52,
   "metadata": {
    "ExecuteTime": {
     "end_time": "2016-12-24T13:13:02.840002",
     "start_time": "2016-12-24T13:13:02.829202"
    },
    "collapsed": true
   },
   "outputs": [],
   "source": [
    "#!/usr/bin/env python\n",
    "from pymongo import MongoClient\n",
    "\n",
    "client = MongoClient(\"mongodb://localhost:27017\")\n",
    "db = client.examples"
   ]
  },
  {
   "cell_type": "markdown",
   "metadata": {},
   "source": [
    "### 进行查询"
   ]
  },
  {
   "cell_type": "code",
   "execution_count": 72,
   "metadata": {
    "ExecuteTime": {
     "end_time": "2016-12-24T15:36:57.201924",
     "start_time": "2016-12-24T15:36:57.195870"
    },
    "code_folding": [],
    "collapsed": false,
    "scrolled": true
   },
   "outputs": [
    {
     "name": "stdout",
     "output_type": "stream",
     "text": [
      "总的文件数量： 1514134\n"
     ]
    }
   ],
   "source": [
    "print  '总的文件数量：', db.dresden.count()"
   ]
  },
  {
   "cell_type": "code",
   "execution_count": 61,
   "metadata": {
    "ExecuteTime": {
     "end_time": "2016-12-24T13:17:20.944391",
     "start_time": "2016-12-24T13:17:19.853252"
    },
    "collapsed": false
   },
   "outputs": [
    {
     "name": "stdout",
     "output_type": "stream",
     "text": [
      "唯一用户数量： 1891\n"
     ]
    }
   ],
   "source": [
    "print '唯一用户数量：', len(db.dresden.distinct('created.uid'))"
   ]
  },
  {
   "cell_type": "code",
   "execution_count": 271,
   "metadata": {
    "ExecuteTime": {
     "end_time": "2016-12-25T10:33:19.959619",
     "start_time": "2016-12-25T10:33:16.275633"
    },
    "collapsed": false
   },
   "outputs": [
    {
     "name": "stdout",
     "output_type": "stream",
     "text": [
      "提交数量排名前五的用户及其提交数量\n",
      "[{u'_id': u'1161559', u'count': 162115},\n",
      " {u'_id': u'120153', u'count': 162049},\n",
      " {u'_id': u'423685', u'count': 104094},\n",
      " {u'_id': u'86504', u'count': 82007},\n",
      " {u'_id': u'1233651', u'count': 75506}]\n"
     ]
    }
   ],
   "source": [
    "query_top_users = [\n",
    "    { '$project': { 'uid': '$created.uid','user': '$created.user'} } ,\n",
    "    { '$group': { '_id': '$uid',\n",
    "                  'count': { '$sum': 1 } } },\n",
    "    { '$sort' : { 'count' : -1 } },\n",
    "    { '$limit' : 5}]\n",
    "top_users =  db.dresden.aggregate(query_top_users)\n",
    "print '提交数量排名前五的用户及其提交数量'\n",
    "pprint.pprint([x for x in top_users])"
   ]
  },
  {
   "cell_type": "code",
   "execution_count": 32,
   "metadata": {
    "ExecuteTime": {
     "end_time": "2016-12-23T00:38:09.249347",
     "start_time": "2016-12-23T00:38:08.574861"
    },
    "collapsed": false,
    "scrolled": true
   },
   "outputs": [
    {
     "name": "stdout",
     "output_type": "stream",
     "text": [
      "节点(node)数量： 1277770\n"
     ]
    }
   ],
   "source": [
    "node_num =  db.dresden.find({'type': 'node'}).count()\n",
    "print '节点(node)数量：', node_num"
   ]
  },
  {
   "cell_type": "code",
   "execution_count": 34,
   "metadata": {
    "ExecuteTime": {
     "end_time": "2016-12-23T00:58:26.579616",
     "start_time": "2016-12-23T00:58:25.852889"
    },
    "collapsed": false,
    "scrolled": true
   },
   "outputs": [
    {
     "name": "stdout",
     "output_type": "stream",
     "text": [
      "道路(way)数量： 236248\n"
     ]
    }
   ],
   "source": [
    "way_num =  db.dresden.find({'type': 'way'}).count()\n",
    "print '道路(way)数量：', way_num"
   ]
  },
  {
   "cell_type": "code",
   "execution_count": 65,
   "metadata": {
    "ExecuteTime": {
     "end_time": "2016-12-24T14:25:05.162161",
     "start_time": "2016-12-24T14:25:04.368283"
    },
    "collapsed": false,
    "scrolled": true
   },
   "outputs": [
    {
     "name": "stdout",
     "output_type": "stream",
     "text": [
      "TOP10 商家种类及数量（从高到低排序）：\n",
      "+++++++++++++++++++++++++++\n",
      "bench    3937\n",
      "parking    3268\n",
      "bicycle_parking    1107\n",
      "recycling    921\n",
      "post_box    837\n",
      "waste_basket    722\n",
      "vending_machine    705\n",
      "restaurant    702\n",
      "fast_food    352\n",
      "kindergarten    350\n"
     ]
    }
   ],
   "source": [
    "query_amenity = [\n",
    "    { '$match': { 'amenity': { '$exists': 1 } } },\n",
    "    { '$project': { 'amenity': '$amenity' } },\n",
    "    { '$group': { '_id': '$amenity',\n",
    "                  'count': { '$sum': 1 } } },\n",
    "    { '$sort' : { 'count' : -1 } },\n",
    "    { '$limit' : 10}]\n",
    "amenity_num =  db.dresden.aggregate(query_amenity)\n",
    "print 'TOP10 商家种类及数量（从高到低排序）：\\n+++++++++++++++++++++++++++'\n",
    "for i in [x for x in amenity_num]:\n",
    "    if type(i['_id']) in (str, unicode):\n",
    "        print '{0}    {1}'.format(i['_id'].encode('utf-8'), i['count'])"
   ]
  },
  {
   "cell_type": "markdown",
   "metadata": {},
   "source": [
    "#### 查询哪家银行的网点最多："
   ]
  },
  {
   "cell_type": "code",
   "execution_count": 274,
   "metadata": {
    "ExecuteTime": {
     "end_time": "2016-12-25T11:40:34.429701",
     "start_time": "2016-12-25T11:40:33.751491"
    },
    "collapsed": false
   },
   "outputs": [
    {
     "name": "stdout",
     "output_type": "stream",
     "text": [
      "TOP5 银行及其网店数量（从高到低排序）：\n",
      "+++++++++++++++++++++++++++\n",
      "Sparkasse    29\n",
      "Ostsächsische Sparkasse Dresden    12\n",
      "Commerzbank    10\n",
      "Deutsche Bank    9\n"
     ]
    }
   ],
   "source": [
    "query_bank = [\n",
    "    { '$match': { 'amenity': 'bank' }},\n",
    "    { '$group': { '_id': '$name',\n",
    "                  'count': { '$sum': 1 } } },\n",
    "    { '$sort' : { 'count' : -1 } },\n",
    "    { '$limit' : 5}]\n",
    "bank_num =  db.dresden.aggregate(query_bank)\n",
    "print 'TOP5 银行及其网店数量（从高到低排序）：\\n+++++++++++++++++++++++++++'\n",
    "for i in [x for x in bank_num]:\n",
    "    if type(i['_id']) in (str, unicode):\n",
    "        print '{0}    {1}'.format(i['_id'].encode('utf-8'), i['count'])"
   ]
  },
  {
   "cell_type": "markdown",
   "metadata": {},
   "source": [
    "> **Sparkasse**是德国最大的储蓄银行集团[Sparkassen-Finanzgruppe](https://www.sparkasse.de)的营业网点"
   ]
  },
  {
   "cell_type": "markdown",
   "metadata": {},
   "source": [
    "## 4. 对数据库进行额外的探索\n",
    "### **对整个数据库的每月更改提交数量进行一些探索**"
   ]
  },
  {
   "cell_type": "code",
   "execution_count": 288,
   "metadata": {
    "ExecuteTime": {
     "end_time": "2016-12-25T11:45:33.919221",
     "start_time": "2016-12-25T11:45:33.861110"
    },
    "collapsed": false
   },
   "outputs": [],
   "source": [
    "#建立查询，返回uid,user,timestamp,id四项内容的所有type为node的所有文档\n",
    "query_date = [\n",
    "    { '$match' : {'type': 'node'}},\n",
    "    { '$project': { 'uid': '$created.uid' ,'user_name': '$created.user', 'date': '$created.timestamp', 'id': '$id' }},\n",
    "    { '$limit' : 5000000}]\n",
    "result_date =  db.dresden.aggregate(query_date)"
   ]
  },
  {
   "cell_type": "code",
   "execution_count": 289,
   "metadata": {
    "ExecuteTime": {
     "end_time": "2016-12-25T11:45:49.822303",
     "start_time": "2016-12-25T11:45:33.920971"
    },
    "collapsed": false
   },
   "outputs": [],
   "source": [
    "#生成list generator用于后续pandas DataFrame的导入，其中date只取了timestamp的前7位，因为只需精确到月份即可\n",
    "db_data = [ [x['id'], x['uid'], x['user_name'], x['date'][:7]] for x in result_date]"
   ]
  },
  {
   "cell_type": "code",
   "execution_count": 290,
   "metadata": {
    "ExecuteTime": {
     "end_time": "2016-12-25T11:45:49.857492",
     "start_time": "2016-12-25T11:45:49.824110"
    },
    "collapsed": false
   },
   "outputs": [],
   "source": [
    "#import needed packages\n",
    "import pandas as pd\n",
    "import matplotlib.pyplot as plt\n",
    "import seaborn as sns\n",
    "\n",
    "#让图标显示在notebook内\n",
    "%matplotlib inline\n",
    "\n",
    "#让图片适应视网膜屏精度\n",
    "%config InlineBackend.figure_format = 'retina'"
   ]
  },
  {
   "cell_type": "code",
   "execution_count": 291,
   "metadata": {
    "ExecuteTime": {
     "end_time": "2016-12-25T11:45:50.724446",
     "start_time": "2016-12-25T11:45:49.883888"
    },
    "collapsed": false,
    "scrolled": true
   },
   "outputs": [
    {
     "data": {
      "text/html": [
       "<div>\n",
       "<table border=\"1\" class=\"dataframe\">\n",
       "  <thead>\n",
       "    <tr style=\"text-align: right;\">\n",
       "      <th></th>\n",
       "      <th>id</th>\n",
       "      <th>uid</th>\n",
       "      <th>user_name</th>\n",
       "      <th>date</th>\n",
       "    </tr>\n",
       "  </thead>\n",
       "  <tbody>\n",
       "    <tr>\n",
       "      <th>0</th>\n",
       "      <td>442734</td>\n",
       "      <td>1233651</td>\n",
       "      <td>NESDD</td>\n",
       "      <td>2013-06</td>\n",
       "    </tr>\n",
       "    <tr>\n",
       "      <th>1</th>\n",
       "      <td>442737</td>\n",
       "      <td>1233651</td>\n",
       "      <td>NESDD</td>\n",
       "      <td>2013-06</td>\n",
       "    </tr>\n",
       "    <tr>\n",
       "      <th>2</th>\n",
       "      <td>442736</td>\n",
       "      <td>1233651</td>\n",
       "      <td>NESDD</td>\n",
       "      <td>2013-06</td>\n",
       "    </tr>\n",
       "    <tr>\n",
       "      <th>3</th>\n",
       "      <td>442735</td>\n",
       "      <td>1233651</td>\n",
       "      <td>NESDD</td>\n",
       "      <td>2013-06</td>\n",
       "    </tr>\n",
       "    <tr>\n",
       "      <th>4</th>\n",
       "      <td>442738</td>\n",
       "      <td>60567</td>\n",
       "      <td>TKN</td>\n",
       "      <td>2008-10</td>\n",
       "    </tr>\n",
       "  </tbody>\n",
       "</table>\n",
       "</div>"
      ],
      "text/plain": [
       "       id      uid user_name     date\n",
       "0  442734  1233651     NESDD  2013-06\n",
       "1  442737  1233651     NESDD  2013-06\n",
       "2  442736  1233651     NESDD  2013-06\n",
       "3  442735  1233651     NESDD  2013-06\n",
       "4  442738    60567       TKN  2008-10"
      ]
     },
     "execution_count": 291,
     "metadata": {},
     "output_type": "execute_result"
    }
   ],
   "source": [
    "#用之前的数据生成一个dataframe对象\n",
    "data_df = pd.DataFrame(db_data, columns = ['id', 'uid', 'user_name', 'date'])\n",
    "data_df.head()"
   ]
  },
  {
   "cell_type": "code",
   "execution_count": 249,
   "metadata": {
    "ExecuteTime": {
     "end_time": "2016-12-25T10:05:12.496783",
     "start_time": "2016-12-25T10:05:10.310209"
    },
    "collapsed": false,
    "scrolled": true
   },
   "outputs": [
    {
     "data": {
      "text/plain": [
       "<matplotlib.axes._subplots.AxesSubplot at 0x12488a950>"
      ]
     },
     "execution_count": 249,
     "metadata": {},
     "output_type": "execute_result"
    },
    {
     "data": {
      "image/png": "[encoded data removed]",
      "text/plain": [
       "<matplotlib.figure.Figure at 0x12529f650>"
      ]
     },
     "metadata": {
      "image/png": {
       "height": 548,
       "width": 1618
      }
     },
     "output_type": "display_data"
    }
   ],
   "source": [
    "#生成每月更改提交量的走势图\n",
    "data_df.groupby('date').count()['id'].plot(title='Monthly Submission of New Changes in Dresden OSM ',figsize=(20,6))\n"
   ]
  },
  {
   "cell_type": "code",
   "execution_count": 256,
   "metadata": {
    "ExecuteTime": {
     "end_time": "2016-12-25T10:18:11.994634",
     "start_time": "2016-12-25T10:18:11.060126"
    },
    "collapsed": false,
    "scrolled": false
   },
   "outputs": [
    {
     "data": {
      "text/html": [
       "<div>\n",
       "<table border=\"1\" class=\"dataframe\">\n",
       "  <thead>\n",
       "    <tr style=\"text-align: right;\">\n",
       "      <th></th>\n",
       "      <th>date</th>\n",
       "      <th>id</th>\n",
       "    </tr>\n",
       "  </thead>\n",
       "  <tbody>\n",
       "    <tr>\n",
       "      <th>116</th>\n",
       "      <td>2016-01</td>\n",
       "      <td>35484</td>\n",
       "    </tr>\n",
       "    <tr>\n",
       "      <th>86</th>\n",
       "      <td>2013-07</td>\n",
       "      <td>33263</td>\n",
       "    </tr>\n",
       "    <tr>\n",
       "      <th>94</th>\n",
       "      <td>2014-03</td>\n",
       "      <td>32806</td>\n",
       "    </tr>\n",
       "    <tr>\n",
       "      <th>93</th>\n",
       "      <td>2014-02</td>\n",
       "      <td>30114</td>\n",
       "    </tr>\n",
       "    <tr>\n",
       "      <th>112</th>\n",
       "      <td>2015-09</td>\n",
       "      <td>28934</td>\n",
       "    </tr>\n",
       "  </tbody>\n",
       "</table>\n",
       "</div>"
      ],
      "text/plain": [
       "        date     id\n",
       "116  2016-01  35484\n",
       "86   2013-07  33263\n",
       "94   2014-03  32806\n",
       "93   2014-02  30114\n",
       "112  2015-09  28934"
      ]
     },
     "execution_count": 256,
     "metadata": {},
     "output_type": "execute_result"
    }
   ],
   "source": [
    "#列出月度提交量最高的5个时间\n",
    "df = data_df.groupby('date',as_index=False).count()\n",
    "df[df['id']>20000][['date','id']].sort_values(by='id',ascending=False).head()"
   ]
  },
  {
   "cell_type": "markdown",
   "metadata": {},
   "source": [
    "<span style='color:blue'>**以上走势图和数据表可以看出Dresden的数据更改提交量并不均衡，波动较大，每年都会有几个高峰，最高峰发生在2016年1月和2013年7月。另外，2016年1月的最高峰过后，提交量一路走低，甚至于达到了5年多来的最低点，要了解具体原因可能需要了解更多数据库以外的信息。**</span>"
   ]
  },
  {
   "cell_type": "markdown",
   "metadata": {},
   "source": [
    "下面再看一下2016年1月的所有用户的提交量排名："
   ]
  },
  {
   "cell_type": "code",
   "execution_count": 269,
   "metadata": {
    "ExecuteTime": {
     "end_time": "2016-12-25T10:31:20.185842",
     "start_time": "2016-12-25T10:31:19.140258"
    },
    "collapsed": false,
    "scrolled": false
   },
   "outputs": [
    {
     "data": {
      "text/html": [
       "<div>\n",
       "<table border=\"1\" class=\"dataframe\">\n",
       "  <thead>\n",
       "    <tr style=\"text-align: right;\">\n",
       "      <th></th>\n",
       "      <th>date</th>\n",
       "      <th>id</th>\n",
       "      <th>user_name</th>\n",
       "    </tr>\n",
       "  </thead>\n",
       "  <tbody>\n",
       "    <tr>\n",
       "      <th>5448</th>\n",
       "      <td>2016-01</td>\n",
       "      <td>17149</td>\n",
       "      <td>roschitom</td>\n",
       "    </tr>\n",
       "    <tr>\n",
       "      <th>5433</th>\n",
       "      <td>2016-01</td>\n",
       "      <td>4855</td>\n",
       "      <td>geri-oc</td>\n",
       "    </tr>\n",
       "    <tr>\n",
       "      <th>5422</th>\n",
       "      <td>2016-01</td>\n",
       "      <td>4416</td>\n",
       "      <td>Wolle DD</td>\n",
       "    </tr>\n",
       "    <tr>\n",
       "      <th>5394</th>\n",
       "      <td>2016-01</td>\n",
       "      <td>1505</td>\n",
       "      <td>Eisenspleiszer</td>\n",
       "    </tr>\n",
       "    <tr>\n",
       "      <th>5419</th>\n",
       "      <td>2016-01</td>\n",
       "      <td>1370</td>\n",
       "      <td>Thomas8122</td>\n",
       "    </tr>\n",
       "  </tbody>\n",
       "</table>\n",
       "</div>"
      ],
      "text/plain": [
       "         date     id       user_name\n",
       "5448  2016-01  17149       roschitom\n",
       "5433  2016-01   4855         geri-oc\n",
       "5422  2016-01   4416        Wolle DD\n",
       "5394  2016-01   1505  Eisenspleiszer\n",
       "5419  2016-01   1370      Thomas8122"
      ]
     },
     "execution_count": 269,
     "metadata": {},
     "output_type": "execute_result"
    }
   ],
   "source": [
    "df2 = data_df.groupby(['date','user_name'], as_index=False).count()[['date','id','user_name']]\n",
    "df2[df2['date']=='2016-01'].sort_values(by='id', ascending=False).head()"
   ]
  },
  {
   "cell_type": "markdown",
   "metadata": {},
   "source": [
    "发现2016年1月提交量最高的用户名为：<span style='color:blue'>roschitom</span>，提交量是17149，几乎是当月所有提交量的一半。通过mongo shell查询，其历史提交总量为34344."
   ]
  },
  {
   "cell_type": "markdown",
   "metadata": {},
   "source": [
    "```bash\n",
    "> db.dresden.find({'created.user': \"roschitom\"}).count()\n",
    "34344\n",
    "```"
   ]
  },
  {
   "cell_type": "code",
   "execution_count": 354,
   "metadata": {
    "ExecuteTime": {
     "end_time": "2016-12-25T23:48:48.035670",
     "start_time": "2016-12-25T23:48:47.123808"
    },
    "collapsed": false
   },
   "outputs": [],
   "source": [
    "query_ro = [\n",
    "    { '$match': { 'created.user': 'roschitom' }},\n",
    "    { '$group': { '_id': '$created.changeset',\n",
    "                  'count': { '$sum': 1 } } },\n",
    "    { '$sort' : { 'count' : -1 } }]\n",
    "result_ro =  db.dresden.aggregate(query_ro)"
   ]
  },
  {
   "cell_type": "code",
   "execution_count": 355,
   "metadata": {
    "ExecuteTime": {
     "end_time": "2016-12-25T23:48:48.145551",
     "start_time": "2016-12-25T23:48:48.039050"
    },
    "collapsed": false
   },
   "outputs": [
    {
     "name": "stdout",
     "output_type": "stream",
     "text": [
      "列出用户roschitom 所有提交过的changeset记录中更改条目数量排TOP10的记录：\n",
      "changeset: 36882155 | count: 2756 | date: 2016-01-29\n",
      "changeset: 36643222 | count: 2591 | date: 2016-01-17\n",
      "changeset: 36613509 | count: 1980 | date: 2016-01-16\n",
      "changeset: 36595118 | count: 1931 | date: 2016-01-15\n",
      "changeset: 39152546 | count: 1781 | date: 2016-05-06\n",
      "changeset: 35602650 | count: 1723 | date: 2015-11-26\n",
      "changeset: 36584469 | count: 1441 | date: 2016-01-15\n",
      "changeset: 36577261 | count: 1287 | date: 2016-01-14\n",
      "changeset: 36603872 | count: 1238 | date: 2016-01-15\n",
      "changeset: 36625461 | count: 1175 | date: 2016-01-16\n"
     ]
    }
   ],
   "source": [
    "result_ro_list = [x for x in result_ro]\n",
    "print '列出用户roschitom 所有提交过的changeset记录中更改条目数量排TOP10的记录：'\n",
    "for item in result_ro_list[:10]:\n",
    "    line = db.dresden.find_one({'created.changeset': item['_id']},{'_id': 0, 'created.changeset': 1, 'created.user': 1, 'created.timestamp': 1})  \n",
    "    print 'changeset:', line['created']['changeset'], '|', 'count:', item['count'], '|', 'date:', line['created']['timestamp'][:10]"
   ]
  },
  {
   "cell_type": "markdown",
   "metadata": {},
   "source": [
    "综上可以看出，用户roschitom大量的提交（特别是在2016年1月）数据量普遍较大，经过在mongo shell中选择其中几个changeset进行简单查询后发现这些数据相应的“node”基本被“way”类型的文档所引用，查阅OpenStreetMap的官方wiki页面(http://wiki.openstreetmap.org/wiki/Beginners_Guide_1.2.2)    了解到用户可以将GPS设备或者软件采集到的GPS数据log批量导入到OSM中，<span style='color:blue'>**因此可以基本确认，用户roschitom应该就是通过GPS数据log得以短时间内大量地上传了数据到OSM中**。</span>"
   ]
  },
  {
   "cell_type": "markdown",
   "metadata": {
    "ExecuteTime": {
     "end_time": "2016-12-25T23:12:20.386885",
     "start_time": "2016-12-25T23:12:20.379836"
    },
    "collapsed": true
   },
   "source": [
    "## 5. 对于数据库其它的想法"
   ]
  },
  {
   "cell_type": "markdown",
   "metadata": {},
   "source": [
    "OSM的用户指南中(http://wiki.openstreetmap.org/wiki/Good_changeset_comments)    建议用户在每一次的将数据集changeset上传网站时维护comment信息，即说明一下此次上传的更改的主要内容或者原因，以便于其他用户快速了解。<span style='color:blue'>那就让我们看看在Dresden数据库中用户是否都会填写comment：</span>"
   ]
  },
  {
   "cell_type": "code",
   "execution_count": 374,
   "metadata": {
    "ExecuteTime": {
     "end_time": "2016-12-26T00:32:35.383477",
     "start_time": "2016-12-26T00:32:33.461442"
    },
    "collapsed": false,
    "scrolled": false
   },
   "outputs": [
    {
     "name": "stdout",
     "output_type": "stream",
     "text": [
      "有comment的文档总数: 106\n",
      "{u'4b696d': 3,\n",
      " u'Aleks-Berlin': 1,\n",
      " u'Black-Eagle': 2,\n",
      " u'Eicca': 3,\n",
      " u'Eisenspleiszer': 1,\n",
      " u'Hedaja': 1,\n",
      " u'JGardke': 2,\n",
      " u'Jochen Topf': 1,\n",
      " u'Klumbumbus': 1,\n",
      " u'MKnight': 2,\n",
      " u'MaxF37': 2,\n",
      " u'Nordpfeil': 4,\n",
      " u'Skagen': 3,\n",
      " u'TEAM_CN_TUD': 3,\n",
      " u'Wall\\xb7E': 1,\n",
      " u'Wolle DD': 1,\n",
      " u'avena701': 36,\n",
      " u'bigbug21': 1,\n",
      " u'burts': 7,\n",
      " u'ddgb': 2,\n",
      " u'ht_': 2,\n",
      " u'iknopf': 7,\n",
      " u'jacobbraeutigam': 5,\n",
      " u'kkokus': 1,\n",
      " u'kummeru': 1,\n",
      " u'mh_helge': 1,\n",
      " u'monotar': 1,\n",
      " u'scai': 5,\n",
      " u'stw1701': 2,\n",
      " u'theonlytruth': 1,\n",
      " u'ulmtuelp': 1,\n",
      " u'utack': 1,\n",
      " u'wheelmap_visitor': 1}\n"
     ]
    }
   ],
   "source": [
    "#查询所有存在key值为comment的文档数量\n",
    "db_result_comment = db.dresden.find({'comment': {'$exists': 1}})\n",
    "print '有comment的文档总数:', db_result_comment.count()\n",
    "commented_user = [x['created']['user'] for x in db_result_comment]\n",
    "user_name_comment = {}\n",
    "for x in commented_user:\n",
    "    user_name_comment[x] = user_name_comment.get(x, 0) + 1\n",
    "pprint.pprint(user_name_comment)"
   ]
  },
  {
   "cell_type": "markdown",
   "metadata": {},
   "source": [
    "**有comment的文档只有106个，在整个数据库中的占比不足万分之一，可以想见，这样对于后续用户的持续优化改进是非常不利的，<span style='color:blue'>因此，OSM在这一点上可以进行改进，应该通过一些方法来鼓励用户提交comment信息，比如设置一些预置的comment选项，或者强制用户维护comment等方法。</span>**"
   ]
  },
  {
   "cell_type": "markdown",
   "metadata": {
    "collapsed": true
   },
   "source": [
    "### 实施改进后的收益和可能带来的问题"
   ]
  },
  {
   "cell_type": "markdown",
   "metadata": {},
   "source": [
    "#### 收益\n",
    "如果通过一些方法能促使用户更多的提交comment之后，将为后续用户对地图的持续优化提供很多便利，特别是在市中心等更新比较密集的区域，后来的用户在更新通过查看以往用户的comment可以了解以往的更新历史概况，以便用户决定是否进行更新以及如何更新，同时也能通过这种方式形成更好的社区互动氛围。"
   ]
  },
  {
   "cell_type": "markdown",
   "metadata": {},
   "source": [
    "#### 风险\n",
    "大量增加comment信息后，由于comment的信息一般是一段描述性的文字，其内容一般较长，因此可能会对数据库的容量带来一定的挑战，同时在用户读取或者下载地图数据时的网络数据传输量也会增加不少，这些问题时需要在实施改进时予以考虑的，比如在鼓励用户提交comment时同时限制comment内容的长度等等。"
   ]
  },
  {
   "cell_type": "code",
   "execution_count": null,
   "metadata": {
    "collapsed": true
   },
   "outputs": [],
   "source": []
  }
 ],
 "metadata": {
  "anaconda-cloud": {},
  "hide_input": false,
  "kernelspec": {
   "display_name": "Python [conda root]",
   "language": "python",
   "name": "conda-root-py"
  },
  "language_info": {
   "codemirror_mode": {
    "name": "ipython",
    "version": 2
   },
   "file_extension": ".py",
   "mimetype": "text/x-python",
   "name": "python",
   "nbconvert_exporter": "python",
   "pygments_lexer": "ipython2",
   "version": "2.7.12"
  },
  "latex_envs": {
   "LaTeX_envs_menu_present": true,
   "bibliofile": "biblio.bib",
   "cite_by": "apalike",
   "current_citInitial": 1,
   "eqLabelWithNumbers": true,
   "eqNumInitial": 1,
   "labels_anchors": false,
   "latex_user_defs": false,
   "report_style_numbering": false,
   "user_envs_cfg": false
  }
 },
 "nbformat": 4,
 "nbformat_minor": 1
}
