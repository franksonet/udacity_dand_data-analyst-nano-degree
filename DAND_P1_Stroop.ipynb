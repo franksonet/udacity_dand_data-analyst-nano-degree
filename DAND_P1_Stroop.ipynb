{
 "cells": [
  {
   "cell_type": "markdown",
   "metadata": {},
   "source": [
    "# Udacity-DAND-P1-Project-Report\n",
    "\n",
    "\n",
    ">__背景信息__<br>\n",
    ">在一个 Stroop （斯特鲁普）任务中，参与者得到了一列文字，每个文字都用一种油墨颜色展示。参与者的任务是将文字的打印颜色大声说出来。这项任务有两个条件：一致文字条件，和不一致文字条件。在一致文字条件中，显示的文字是与它们的打印颜色匹配的颜色词，如“红色”、“蓝色”。在不一致文字条件中，显示的文字是与它们的打印颜色不匹配的颜色词，如“紫色”、“橙色”。在每个情况中，我们将计量说出同等大小的列表中的墨色名称的时间。每位参与者必须全部完成并记录每种条件下使用的时间。"
   ]
  },
  {
   "cell_type": "markdown",
   "metadata": {},
   "source": [
    "## 数据分析报告\n",
    "\n",
    "- **自变量／Independent variable**  \n",
    "文字与颜色是否一致<br><br>\n",
    "\n",
    "- **因变量／Dependent variable**  \n",
    "参与者说出所有文字颜色所花费时间<br><br>\n",
    "\n",
    "- **处理方式／Treatment**  \n",
    "改变文字和其颜色的一致性<br><br>\n",
    "\n",
    "- **统计测试类型／Statistical test to perform**  \n",
    "由于该试验为**相依测试**（Dependent test）中的**Repeated measures design**，且测试结果数据集样本数较小$(n<30)$，所以应使用__t检验__。"
   ]
  },
  {
   "cell_type": "markdown",
   "metadata": {},
   "source": [
    "- **假设集／Set of hypothesis**  \n",
    "<span style=\"color:blue;\">$\\mu_{c}$</span>: 文字与颜色<span style=\"color:blue;\">一致</span>情况下所花费时间的总体均值<br>\n",
    "<span style=\"color:blue;\">$\\mu_{i}$</span>: 文字与颜色<span style=\"color:blue;\">不一致</span>情况下所花费时间的总体均值<br><br>\n",
    "假设：<br>\n",
    "$H_{0}: \\mu_{i}=\\mu_{c}$   ：在两种测试条件下被测者的花费时间不会有变化<br>\n",
    "$H_{A}: \\mu_{i}>\\mu_{c}$   ：在文字和颜色不一致的条件下被测者的花费时间会增加<br><br>\n",
    "\n",
    "- **测试类型／Type of test**  \n",
    "单尾正向 ／ one-tailed in positive direction "
   ]
  },
  {
   "cell_type": "markdown",
   "metadata": {},
   "source": [
    "- **数据集统计**   \n",
    "![统计](dataset.jpg)"
   ]
  },
  {
   "cell_type": "markdown",
   "metadata": {},
   "source": [
    "- **数据可视化-Box Plot **"
   ]
  },
  {
   "cell_type": "code",
   "execution_count": 1,
   "metadata": {
    "collapsed": true
   },
   "outputs": [],
   "source": [
    "import matplotlib.pyplot as plt\n",
    "import numpy as np"
   ]
  },
  {
   "cell_type": "code",
   "execution_count": 4,
   "metadata": {
    "collapsed": true
   },
   "outputs": [],
   "source": [
    "stroop = np.genfromtxt('stroopdata.csv',\n",
    "                       delimiter=',',\n",
    "                       dtype=np.float32)"
   ]
  },
  {
   "cell_type": "code",
   "execution_count": 6,
   "metadata": {
    "collapsed": false
   },
   "outputs": [
    {
     "data": {
      "image/png": "[encoded data removed]",
      "text/plain": [
       "<matplotlib.figure.Figure at 0x10cfb42d0>"
      ]
     },
     "metadata": {},
     "output_type": "display_data"
    }
   ],
   "source": [
    "plt.figure()\n",
    "plot1 = plt.boxplot(stroop, \n",
    "                    widths = 0.2,\n",
    "                    notch = False,             # median notch\n",
    "                    positions = [1,2],    # boxes locations\n",
    "                    patch_artist=True,\n",
    "                    )\n",
    "\n",
    "plt.setp(plot1['whiskers'], color='DarkMagenta', linewidth=1.5)\n",
    "plt.setp(plot1['caps'], color='DarkMagenta', linewidth=1.5)\n",
    "plt.setp(plot1['fliers'], color='OrangeRed', marker='o', markersize=10)\n",
    "plt.setp(plot1['medians'], color='OrangeRed', linewidth=1.5)\n",
    "\n",
    "plt.xticks([1,2],               # tick marks\n",
    "           ['Congruent', 'Incongruent'],                   # labels\n",
    "           rotation='horizontal')     # rotate the labels\n",
    "\n",
    "plt.ylabel('Time in Seconds')                  # y-axis label\n",
    "plt.title('Stroop Effect Test')  # plot title\n",
    "                    \n",
    "plt.show()                          # render the plot"
   ]
  },
  {
   "cell_type": "markdown",
   "metadata": {},
   "source": [
    "从上面的箱型图中可以看出，文字和颜色不一致的实验中被测者所花费的时间总体比文字和颜色一致的实验要多。"
   ]
  },
  {
   "cell_type": "markdown",
   "metadata": {},
   "source": [
    "- **统计检验**   \n",
    "$n=24$  \n",
    "$df=23$   \n",
    "$\\alpha=.05$   \n",
    "$t_{critical}=1.714$   \n",
    "$\\bar{x}_{c}=14.05$     $\\bar{x}_{i}=22.02$   \n",
    "$\\mu_{i}-\\mu_{c}$的点估计为$\\bar{x}_{i}-\\bar{x}_{c} =  M_{D} = 7.97$   \n",
    "$S_{D}=4.86$   (两种条件下时间差异的标准偏差)   \n",
    "$SEM = \\frac{S_{D}}{\\sqrt{n}} = 0.99$   \n",
    "$t=\\frac{\\mu_{i} - \\mu_{c}}{SEM} = 8.02$   \n",
    "Cohen's d $= \\frac{M_{D}}{S_{D}} = 1.64$   \n",
    "$r^2 = \\frac{r^2}{r^2 + df} = 0.74$   表明对这24个被测人员样本来讲，造成前后测试结果的时间差异中有74%是由于文字和颜色不一致造成的。   \n",
    "Margin of error for 95% CI $= 2.069 * SEM = 2.05 $   \n",
    "95%CI: $M_{D} \\pm$ (Margin of error)$ = 7.97 \\pm 2.05 = (5.92, 10.02)$   \n",
    "P-Value $= .0001 < .05$\n",
    "\n",
    "<br><br>"
   ]
  },
  {
   "cell_type": "markdown",
   "metadata": {},
   "source": [
    "---\n",
    "\n",
    "## 结论\n",
    "**<span style=\"color:red\">拒绝零假设，表明在文字和颜色不同的条件下，被测者需要更多的时间才能完全喊出文字颜色。</span>**   \n",
    "$t(23) = 8.02, p=.0001, one-tailed$   \n",
    "$95\\% CI = (5.92,10.02)$   如果对整个人口群体做一个类似两种测试的话，前后耗时差异最有可能落在5.92秒到10.02秒之间。   \n",
    "Cohen's d$ = 1.64$   \n",
    "$r^2 = .74$  表明对这24个被测人员样本来讲，造成前后测试结果的时间差异中有74%是由于文字和颜色不一致造成的。"
   ]
  },
  {
   "cell_type": "markdown",
   "metadata": {},
   "source": [
    "---\n",
    "## Stroop现象的原因探究\n",
    "目前对于Stroop现象产生的原因的解释主要有以下四种理论 [注1]：\n",
    "1. **处理速度理论**：该理论认为大脑处理文字比识别颜色的速度要快，因此在大脑需要作出决定时，文字信息先于色彩信息到达决策阶段造成了大脑作出决定时的干扰。\n",
    "2. **选择性注意**： 该理论认为因为相对于阅读文字，识别颜色需要占用大脑更多的注意力，所以需要更多的处理时间。\n",
    "3. **自动化理论**： 该理论认为大脑阅读文字是一种下意识的大脑反应，而识别颜色不是。因此识别颜色时大脑需要控制注意力来进行处理。\n",
    "4. **平行分布式处理理论**： 大脑分析信息时，不同类型任务采用不同的特定路径。类似阅读的处理路径的力度更大，因此会对识别颜色的处理产生干扰。\n",
    "\n",
    ">注1: [Stroop effect - Wikipedia](https://en.wikipedia.org/wiki/Stroop_effect#Theories) "
   ]
  },
  {
   "cell_type": "markdown",
   "metadata": {},
   "source": [
    "## Stroop测试变种 [注2]\n",
    "1. 将文字旋转90度或者180度\n",
    "2. 用没有意义的单词替代颜色名称\n",
    ">注2: [Stroop effect](https://faculty.washington.edu/chudler/words.html)"
   ]
  }
 ],
 "metadata": {
  "anaconda-cloud": {},
  "kernelspec": {
   "display_name": "Python [conda root]",
   "language": "python",
   "name": "conda-root-py"
  },
  "language_info": {
   "codemirror_mode": {
    "name": "ipython",
    "version": 2
   },
   "file_extension": ".py",
   "mimetype": "text/x-python",
   "name": "python",
   "nbconvert_exporter": "python",
   "pygments_lexer": "ipython2",
   "version": "2.7.12"
  }
 },
 "nbformat": 4,
 "nbformat_minor": 1
}
